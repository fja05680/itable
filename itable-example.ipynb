{
 "cells": [
  {
   "cell_type": "markdown",
   "metadata": {},
   "source": [
    "# itable examples\n",
    "\n",
    "These tables are created using the itable package [https://github.com/mgymrek/itable](https://github.com/mgymrek/itable).\n",
    "\n",
    "These examples are originally described in [this post](http://melissagymrek.com/python/2014/01/12/ipython-tables.html) before I had created the separate ```itable``` package. Usage is identical except for the change in the package name."
   ]
  },
  {
   "cell_type": "code",
   "execution_count": 1,
   "metadata": {},
   "outputs": [],
   "source": [
    "import pandas as pd\n",
    "import itable"
   ]
  },
  {
   "cell_type": "code",
   "execution_count": 2,
   "metadata": {},
   "outputs": [],
   "source": [
    "# Create an example data frame\n",
    "df = pd.DataFrame({\"x\":[1,2,3], \"y\":[6,4,3], \"z\":[\"testing\",\"pretty\",\"tables\"], \"f\":[0.023432, 0.234321,0.5555]})"
   ]
  },
  {
   "cell_type": "code",
   "execution_count": 3,
   "metadata": {},
   "outputs": [
    {
     "data": {
      "text/html": [
       "<table style=\"\"><tr style=\"\"><td style=\"\">x</td><td style=\"\">y</td><td style=\"\">z</td><td style=\"\">f</td></tr><tr style=\"\"><td style=\"\">1</td><td style=\"\">6</td><td style=\"\">testing</td><td style=\"\">0.023432</td></tr><tr style=\"\"><td style=\"\">2</td><td style=\"\">4</td><td style=\"\">pretty</td><td style=\"\">0.234321</td></tr><tr style=\"\"><td style=\"\">3</td><td style=\"\">3</td><td style=\"\">tables</td><td style=\"\">0.5555</td></tr></table>"
      ],
      "text/plain": [
       "<itable.itable.PrettyTable at 0x7efe45a5ed00>"
      ]
     },
     "execution_count": 3,
     "metadata": {},
     "output_type": "execute_result"
    }
   ],
   "source": [
    "# Display a simple table\n",
    "itable.PrettyTable(df)"
   ]
  },
  {
   "cell_type": "code",
   "execution_count": 4,
   "metadata": {},
   "outputs": [
    {
     "data": {
      "text/html": [
       "<center><table style=\"border: 1px solid black;color: black;\"><tr style=\"border: 1px solid black;color: black;\"><td style=\"color: black;font-weight: bold;background-color: lightgray;\">x</td><td style=\"color: black;font-weight: bold;background-color: lightgray;\">y</td><td style=\"color: black;font-weight: bold;background-color: lightgray;\">z</td><td style=\"color: black;font-weight: bold;background-color: lightgray;\">f</td></tr><tr style=\"border: 1px solid black;color: black;\"><td style=\"border: 1px solid black;color: black;\">1</td><td style=\"border: 1px solid black;color: black;\">6</td><td style=\"border: 1px solid black;color: black;\">testing</td><td style=\"border: 1px solid black;color: black;\">0.023432</td></tr><tr style=\"border: 1px solid black;color: black;\"><td style=\"border: 1px solid black;color: black;\">2</td><td style=\"border: 1px solid black;color: black;\">4</td><td style=\"border: 1px solid black;color: black;\">pretty</td><td style=\"border: 1px solid black;color: black;\">0.234321</td></tr><tr style=\"border: 1px solid black;color: black;\"><td style=\"border: 1px solid black;color: black;\">3</td><td style=\"border: 1px solid black;color: black;\">3</td><td style=\"border: 1px solid black;color: black;\">tables</td><td style=\"border: 1px solid black;color: black;\">0.5555</td></tr></table></center>"
      ],
      "text/plain": [
       "<itable.itable.PrettyTable at 0x7efe45a819d0>"
      ]
     },
     "execution_count": 4,
     "metadata": {},
     "output_type": "execute_result"
    }
   ],
   "source": [
    "# Give it a theme and center the table\n",
    "itable.PrettyTable(df, tstyle=itable.TableStyle(theme=\"theme1\"), center=True)"
   ]
  },
  {
   "cell_type": "code",
   "execution_count": 5,
   "metadata": {},
   "outputs": [
    {
     "data": {
      "text/html": [
       "<center><table style=\"border: 1px solid black;color: black;\"><tr style=\"border: 1px solid black;color: black;\"><td style=\"color: black;font-weight: bold;background-color: lightgray;\">x</td><td style=\"color: black;font-weight: bold;background-color: lightgray;\">y</td><td style=\"color: black;font-weight: bold;background-color: lightgray;\">z</td><td style=\"color: black;font-weight: bold;background-color: lightgray;\">f</td></tr><tr style=\"border: 1px solid black;color: black;\"><td style=\"border: 1px solid black;color: black;\">1</td><td style=\"border: 1px solid black;color: black;\">6</td><td style=\"border: 1px solid black;color: black;\">testing</td><td style=\"border: 1px solid black;color: black;\">0.023432</td></tr><tr style=\"border: 1px solid black;color: black;\"><td style=\"border: 1px solid black;color: black;\">2</td><td style=\"border: 1px solid black;color: black;\">4</td><td style=\"border: 1px solid black;color: black;\">pretty</td><td style=\"border: 1px solid black;color: black;\">0.234321</td></tr><tr style=\"border: 1px solid black;color: black;\"><td style=\"border: 1px solid black;color: black;\">3</td><td style=\"border: 1px solid black;color: black;\">3</td><td style=\"border: 1px solid black;color: black;\">tables</td><td style=\"border: 1px solid black;color: black;\">0.5555</td></tr></table></center>"
      ],
      "text/plain": [
       "<itable.itable.PrettyTable at 0x7efe45a926d0>"
      ]
     },
     "execution_count": 5,
     "metadata": {},
     "output_type": "execute_result"
    }
   ],
   "source": [
    "# Set cell style using a CellStyle object\n",
    "pt = itable.PrettyTable(df, tstyle=itable.TableStyle(theme=\"theme1\"), center=True)\n",
    "cs = itable.CellStyle()\n",
    "cs.set(\"background-color\", \"red\")\n",
    "cs.set(\"color\", \"white\")\n",
    "pt.set_cell_style(style=cs)\n",
    "pt"
   ]
  },
  {
   "cell_type": "code",
   "execution_count": 6,
   "metadata": {},
   "outputs": [
    {
     "data": {
      "text/html": [
       "<center><table style=\"border: 1px solid black;color: black;\"><tr style=\"border: 1px solid black;color: black;\"><td style=\"color: black;font-weight: bold;background-color: lightgray;\">x</td><td style=\"color: black;font-weight: bold;background-color: lightgray;\">y</td><td style=\"color: black;font-weight: bold;background-color: lightgray;\">z</td><td style=\"color: black;font-weight: bold;background-color: lightgray;\">f</td></tr><tr style=\"border: 1px solid black;color: black;\"><td style=\"border: 1px solid black;color: black;\">1</td><td style=\"border: 1px solid black;color: black;\">6</td><td style=\"border: 1px solid black;color: black;\">testing</td><td style=\"border: 1px solid black;color: black;\">0.023432</td></tr><tr style=\"border: 1px solid black;color: black;\"><td style=\"border: 1px solid black;color: black;\">2</td><td style=\"border: 1px solid black;color: black;\">4</td><td style=\"background-color: red;color: white;\">pretty</td><td style=\"border: 1px solid black;color: black;\">0.234321</td></tr><tr style=\"border: 1px solid black;color: black;\"><td style=\"border: 1px solid black;color: black;\">3</td><td style=\"border: 1px solid black;color: black;\">3</td><td style=\"background-color: red;color: white;\">tables</td><td style=\"border: 1px solid black;color: black;\">0.5555</td></tr></table></center>"
      ],
      "text/plain": [
       "<itable.itable.PrettyTable at 0x7efe45784700>"
      ]
     },
     "execution_count": 6,
     "metadata": {},
     "output_type": "execute_result"
    }
   ],
   "source": [
    "# Only for a subset of rows/columns\n",
    "pt = itable.PrettyTable(df, tstyle=itable.TableStyle(theme=\"theme1\"), center=True)\n",
    "cs = itable.CellStyle()\n",
    "cs.set(\"background-color\", \"red\")\n",
    "cs.set(\"color\", \"white\")\n",
    "pt.set_cell_style(style=cs, rows=[1,2], cols=[2])\n",
    "pt"
   ]
  },
  {
   "cell_type": "code",
   "execution_count": 7,
   "metadata": {},
   "outputs": [
    {
     "data": {
      "text/html": [
       "<center><table style=\"border: 1px solid black;color: black;\"><tr style=\"border: 1px solid black;color: black;\"><td style=\"color: black;font-weight: bold;background-color: lightgray;\">x</td><td style=\"color: black;font-weight: bold;background-color: lightgray;\">y</td><td style=\"color: black;font-weight: bold;background-color: lightgray;\">z</td><td style=\"color: black;font-weight: bold;background-color: lightgray;\">f</td></tr><tr style=\"border: 1px solid black;color: black;\"><td style=\"border: 1px solid black;color: black;\">1</td><td style=\"border: 1px solid black;color: black;\">6</td><td style=\"border: 1px solid black;color: black;\">testing</td><td style=\"border: 1px solid black;color: black;\">0.023432</td></tr><tr style=\"border: 1px solid black;color: black;\"><td style=\"border: 1px solid black;color: black;\">2</td><td style=\"border: 1px solid black;color: black;\">4</td><td style=\"font-weight: bold;color: purple;background-color: yellow;\">pretty</td><td style=\"font-weight: bold;color: purple;background-color: yellow;\">0.234321</td></tr><tr style=\"border: 1px solid black;color: black;\"><td style=\"border: 1px solid black;color: black;\">3</td><td style=\"border: 1px solid black;color: black;\">3</td><td style=\"border: 1px solid black;color: black;\">tables</td><td style=\"border: 1px solid black;color: black;\">0.5555</td></tr></table></center>"
      ],
      "text/plain": [
       "<itable.itable.PrettyTable at 0x7efe45787130>"
      ]
     },
     "execution_count": 7,
     "metadata": {},
     "output_type": "execute_result"
    }
   ],
   "source": [
    "# Set styles using keywords (these are all CSS properties, just replace \"-\" with \"_\")\n",
    "pt = itable.PrettyTable(df, tstyle=itable.TableStyle(theme=\"theme1\"), center=True)\n",
    "pt.set_cell_style(font_weight=\"bold\", color=\"purple\", background_color=\"yellow\", rows=[1], cols=[2,3])\n",
    "pt"
   ]
  },
  {
   "cell_type": "code",
   "execution_count": 8,
   "metadata": {},
   "outputs": [
    {
     "data": {
      "text/html": [
       "<center><table style=\"border: 1px solid black;color: black;\"><tr style=\"border: 1px solid black;color: black;\"><td style=\"background-color: red;\"></td><td style=\"color: black;font-weight: bold;background-color: lightgray;\">x</td><td style=\"color: black;font-weight: bold;background-color: lightgray;\">y</td><td style=\"background-color: white;font-weight: bold;\">z</td><td style=\"color: black;font-weight: bold;background-color: lightgray;\">f</td></tr><tr style=\"border: 1px solid black;color: black;\"><td style=\"color: blue;\">0</td><td style=\"border: 1px solid black;color: black;\">1</td><td style=\"border: 1px solid black;color: black;\">6</td><td style=\"border: 1px solid black;color: black;\">testing</td><td style=\"border: 1px solid black;color: black;\">0.023432</td></tr><tr style=\"border: 1px solid black;color: black;\"><td style=\"color: blue;\">1</td><td style=\"border: 1px solid black;color: black;\">2</td><td style=\"border: 1px solid black;color: black;\">4</td><td style=\"border: 1px solid black;color: black;\">pretty</td><td style=\"border: 1px solid black;color: black;\">0.234321</td></tr><tr style=\"border: 1px solid black;color: black;\"><td style=\"color: blue;\">2</td><td style=\"border: 1px solid black;color: black;\">3</td><td style=\"border: 1px solid black;color: black;\">3</td><td style=\"border: 1px solid black;color: black;\">tables</td><td style=\"border: 1px solid black;color: black;\">0.5555</td></tr></table></center>"
      ],
      "text/plain": [
       "<itable.itable.PrettyTable at 0x7efe45787e80>"
      ]
     },
     "execution_count": 8,
     "metadata": {},
     "output_type": "execute_result"
    }
   ],
   "source": [
    "# Set the header style. corner sets the corner cell\n",
    "# \"indices\" applies the style only to certain indices\n",
    "pt = itable.PrettyTable(df, tstyle=itable.TableStyle(theme=\"theme1\"), center=True, header_row=True)\n",
    "pt.set_row_header_style(color=\"blue\")\n",
    "pt.set_col_header_style(background_color=\"white\", font_weight=\"bold\", indices=[2])\n",
    "pt.set_corner_style(background_color=\"red\")\n",
    "pt"
   ]
  },
  {
   "cell_type": "code",
   "execution_count": 9,
   "metadata": {},
   "outputs": [
    {
     "data": {
      "text/html": [
       "<center><table style=\"border: 1px solid black;color: black;\"><tr style=\"border: 1px solid black;color: black;\"><td style=\"background-color: purple;\"></td><td style=\"color: red;font-weight: bold;background-color: lightgray;\">x</td><td style=\"color: red;font-weight: bold;background-color: lightgray;\">y</td><td style=\"color: red;font-weight: bold;background-color: lightgray;\">z</td><td style=\"color: red;font-weight: bold;background-color: lightgray;\">f</td></tr><tr style=\"border: 1px solid black;color: black;\"><td style=\"color: black;font_weight: bold;background-color: blue;\">0</td><td style=\"border: 1px solid black;color: black;\">1</td><td style=\"border: 1px solid black;color: black;\">6</td><td style=\"border: 1px solid black;color: black;\">testing</td><td style=\"border: 1px solid black;color: black;\">0.023432</td></tr><tr style=\"border: 1px solid black;color: black;\"><td style=\"color: black;font_weight: bold;background-color: lightgray;\">1</td><td style=\"border: 1px solid black;color: black;\">2</td><td style=\"border: 1px solid black;color: black;\">4</td><td style=\"font-weight: bold;color: purple;background-color: yellow;\">pretty</td><td style=\"font-weight: bold;color: purple;background-color: pink;\">0.234321</td></tr><tr style=\"border: 1px solid black;color: black;\"><td style=\"color: black;font_weight: bold;background-color: lightgray;\">2</td><td style=\"border: 1px solid black;color: black;\">3</td><td style=\"border: 1px solid black;color: black;\">3</td><td style=\"border: 1px solid black;color: black;\">tables</td><td style=\"border: 1px solid black;color: black;\">0.5555</td></tr></table></center>"
      ],
      "text/plain": [
       "<itable.itable.PrettyTable at 0x7efe45784490>"
      ]
     },
     "execution_count": 9,
     "metadata": {},
     "output_type": "execute_result"
    }
   ],
   "source": [
    "# Update current styles\n",
    "pt = itable.PrettyTable(df, tstyle=itable.TableStyle(theme=\"theme1\"), center=True, header_row=True)\n",
    "pt.set_cell_style(font_weight=\"bold\", color=\"purple\", background_color=\"yellow\", rows=[1], cols=[2,3])\n",
    "pt.update_cell_style(background_color=\"pink\", rows=[1], cols=[3])\n",
    "pt.update_row_header_style(background_color=\"blue\", indices=[0])\n",
    "pt.update_col_header_style(color=\"red\")\n",
    "pt.update_corner_style(background_color=\"purple\")\n",
    "pt"
   ]
  },
  {
   "cell_type": "code",
   "execution_count": 10,
   "metadata": {},
   "outputs": [
    {
     "data": {
      "text/html": [
       "<center><table style=\"border: 1px solid black;color: black;\"><tr style=\"border: 1px solid black;color: black;\"><td style=\"color: black;font-weight: bold;background-color: lightgray;\">FloatColumn</td><td style=\"color: black;font-weight: bold;background-color: lightgray;\">SciNotColumn</td></tr><tr style=\"border: 1px solid black;color: black;\"><td style=\"\">0.032</td><td style=\"\">1.00 &times; 10<sup>10</sup></td></tr><tr style=\"border: 1px solid black;color: black;\"><td style=\"\">0.234</td><td style=\"\">4.23 &times; 10<sup>-6</sup></td></tr><tr style=\"border: 1px solid black;color: black;\"><td style=\"\">0.556</td><td style=\"\">5.30 &times; 10<sup>-7</sup></td></tr></table></center>"
      ],
      "text/plain": [
       "<itable.itable.PrettyTable at 0x7efe45794670>"
      ]
     },
     "execution_count": 10,
     "metadata": {},
     "output_type": "execute_result"
    }
   ],
   "source": [
    "# Set cell formats\n",
    "df = pd.DataFrame({\"FloatColumn\": [0.0324234, 0.23432111, 0.555555], \"SciNotColumn\":[1e10, 4.232e-6, 53e-8]})\n",
    "pt = itable.PrettyTable(df, tstyle=itable.TableStyle(theme=\"theme1\"), center=True)\n",
    "pt.set_cell_style(cols=[0], format_function=lambda x: \"%.3f\"%x)\n",
    "def SciNot(x):\n",
    "    xx = \"%.2E\"%x\n",
    "    base, exp = xx.split(\"E\")\n",
    "    return \"%s &times; 10<sup>%s</sup>\"%(base, int(exp))\n",
    "pt.set_cell_style(cols=[1], format_function=SciNot)\n",
    "pt"
   ]
  }
 ],
 "metadata": {
  "kernelspec": {
   "display_name": "Python 3",
   "language": "python",
   "name": "python3"
  },
  "language_info": {
   "codemirror_mode": {
    "name": "ipython",
    "version": 3
   },
   "file_extension": ".py",
   "mimetype": "text/x-python",
   "name": "python",
   "nbconvert_exporter": "python",
   "pygments_lexer": "ipython3",
   "version": "3.8.2"
  }
 },
 "nbformat": 4,
 "nbformat_minor": 1
}
